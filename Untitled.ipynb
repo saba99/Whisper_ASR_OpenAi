{
 "cells": [
  {
   "cell_type": "code",
   "execution_count": 2,
   "id": "102310e4",
   "metadata": {},
   "outputs": [
    {
     "name": "stdout",
     "output_type": "stream",
     "text": [
      "Performing transcription...\n"
     ]
    },
    {
     "name": "stderr",
     "output_type": "stream",
     "text": [
      "d:\\speech_recognition\\whisperx\\whisperx\\transcribe.py:100: UserWarning: FP16 is not supported on CPU; using FP32 instead\n",
      "  warnings.warn(\"FP16 is not supported on CPU; using FP32 instead\")\n",
      "Traceback (most recent call last):\n",
      "  File \"d:\\speech_recognition\\whisperx\\whisperx\\audio.py\", line 42, in load_audio\n",
      "    ffmpeg.input(file, threads=0)\n",
      "AttributeError: module 'ffmpeg' has no attribute 'input'\n",
      "\n",
      "During handling of the above exception, another exception occurred:\n",
      "\n",
      "Traceback (most recent call last):\n",
      "  File \"C:\\Users\\home\\AppData\\Local\\Programs\\Python\\Python310\\Scripts\\whisperx-script.py\", line 33, in <module>\n",
      "    sys.exit(load_entry_point('whisperx', 'console_scripts', 'whisperx')())\n",
      "  File \"d:\\speech_recognition\\whisperx\\whisperx\\transcribe.py\", line 864, in cli\n",
      "    result = transcribe(model, audio_path, temperature=temperature, **args)\n",
      "  File \"d:\\speech_recognition\\whisperx\\whisperx\\transcribe.py\", line 107, in transcribe\n",
      "    mel = log_mel_spectrogram(audio)\n",
      "  File \"d:\\speech_recognition\\whisperx\\whisperx\\audio.py\", line 111, in log_mel_spectrogram\n",
      "    audio = load_audio(audio)\n",
      "  File \"d:\\speech_recognition\\whisperx\\whisperx\\audio.py\", line 46, in load_audio\n",
      "    except ffmpeg.Error as e:\n",
      "AttributeError: module 'ffmpeg' has no attribute 'Error'\n"
     ]
    }
   ],
   "source": [
    "!whisperx examples/sample01.wav"
   ]
  },
  {
   "cell_type": "code",
   "execution_count": null,
   "id": "a004245d",
   "metadata": {},
   "outputs": [],
   "source": [
    "!whisperx --model tiny --language de examples/sample_de_01.wav"
   ]
  },
  {
   "cell_type": "code",
   "execution_count": null,
   "id": "3f82ae4f",
   "metadata": {},
   "outputs": [],
   "source": []
  }
 ],
 "metadata": {
  "kernelspec": {
   "display_name": "Python 3 (ipykernel)",
   "language": "python",
   "name": "python3"
  },
  "language_info": {
   "codemirror_mode": {
    "name": "ipython",
    "version": 3
   },
   "file_extension": ".py",
   "mimetype": "text/x-python",
   "name": "python",
   "nbconvert_exporter": "python",
   "pygments_lexer": "ipython3",
   "version": "3.9.12"
  }
 },
 "nbformat": 4,
 "nbformat_minor": 5
}
